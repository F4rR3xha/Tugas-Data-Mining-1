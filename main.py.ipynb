{
 "cells": [
  {
   "cell_type": "code",
   "execution_count": 1,
   "id": "1477f018",
   "metadata": {},
   "outputs": [],
   "source": [
    "import numpy as np\n",
    "import matplotlib.pyplot as plt\n",
    "import pandas as pd"
   ]
  },
  {
   "cell_type": "code",
   "execution_count": 2,
   "id": "b459c083",
   "metadata": {},
   "outputs": [],
   "source": [
    "dataset = pd.read_csv('DataKelulusan.csv')\n",
    "X = dataset.iloc[:, :-1].values\n",
    "y = dataset.iloc[:, -1].values"
   ]
  },
  {
   "cell_type": "code",
   "execution_count": 3,
   "id": "49ddb6e2",
   "metadata": {},
   "outputs": [],
   "source": [
    "from sklearn.model_selection import train_test_split\n",
    "X_train, X_test, y_train, y_test = train_test_split(X, y, test_size = 0.2, random_state=0)"
   ]
  },
  {
   "cell_type": "code",
   "execution_count": 4,
   "id": "0d7e3041",
   "metadata": {},
   "outputs": [
    {
     "data": {
      "text/html": [
       "<div>\n",
       "<style scoped>\n",
       "    .dataframe tbody tr th:only-of-type {\n",
       "        vertical-align: middle;\n",
       "    }\n",
       "\n",
       "    .dataframe tbody tr th {\n",
       "        vertical-align: top;\n",
       "    }\n",
       "\n",
       "    .dataframe thead th {\n",
       "        text-align: right;\n",
       "    }\n",
       "</style>\n",
       "<table border=\"1\" class=\"dataframe\">\n",
       "  <thead>\n",
       "    <tr style=\"text-align: right;\">\n",
       "      <th></th>\n",
       "      <th>Nama</th>\n",
       "      <th>Umur</th>\n",
       "      <th>Gaji</th>\n",
       "      <th>KeteranganTetap</th>\n",
       "    </tr>\n",
       "  </thead>\n",
       "  <tbody>\n",
       "    <tr>\n",
       "      <th>0</th>\n",
       "      <td>Ikhwan Fila</td>\n",
       "      <td>21.0</td>\n",
       "      <td>4000.0</td>\n",
       "      <td>Yes</td>\n",
       "    </tr>\n",
       "    <tr>\n",
       "      <th>1</th>\n",
       "      <td>Fara Darniva</td>\n",
       "      <td>21.0</td>\n",
       "      <td>3500.0</td>\n",
       "      <td>Yes</td>\n",
       "    </tr>\n",
       "    <tr>\n",
       "      <th>2</th>\n",
       "      <td>Irgi Saputra</td>\n",
       "      <td>21.0</td>\n",
       "      <td>4000.0</td>\n",
       "      <td>Yes</td>\n",
       "    </tr>\n",
       "    <tr>\n",
       "      <th>3</th>\n",
       "      <td>Ikhwan Fila</td>\n",
       "      <td>25.0</td>\n",
       "      <td>5500.0</td>\n",
       "      <td>Yes</td>\n",
       "    </tr>\n",
       "    <tr>\n",
       "      <th>4</th>\n",
       "      <td>Fara Darniva</td>\n",
       "      <td>25.0</td>\n",
       "      <td>NaN</td>\n",
       "      <td>Yes</td>\n",
       "    </tr>\n",
       "    <tr>\n",
       "      <th>5</th>\n",
       "      <td>Irgi Saputra</td>\n",
       "      <td>25.0</td>\n",
       "      <td>5500.0</td>\n",
       "      <td>NaN</td>\n",
       "    </tr>\n",
       "    <tr>\n",
       "      <th>6</th>\n",
       "      <td>Ikhwan Fila</td>\n",
       "      <td>NaN</td>\n",
       "      <td>6500.0</td>\n",
       "      <td>Yes</td>\n",
       "    </tr>\n",
       "    <tr>\n",
       "      <th>7</th>\n",
       "      <td>Fara Darniva</td>\n",
       "      <td>30.0</td>\n",
       "      <td>6000.0</td>\n",
       "      <td>No</td>\n",
       "    </tr>\n",
       "    <tr>\n",
       "      <th>8</th>\n",
       "      <td>Irgi Saputra</td>\n",
       "      <td>30.0</td>\n",
       "      <td>6300.0</td>\n",
       "      <td>Yes</td>\n",
       "    </tr>\n",
       "    <tr>\n",
       "      <th>9</th>\n",
       "      <td>Ikhwan</td>\n",
       "      <td>32.0</td>\n",
       "      <td>7600.0</td>\n",
       "      <td>No</td>\n",
       "    </tr>\n",
       "  </tbody>\n",
       "</table>\n",
       "</div>"
      ],
      "text/plain": [
       "           Nama  Umur    Gaji KeteranganTetap\n",
       "0   Ikhwan Fila  21.0  4000.0             Yes\n",
       "1  Fara Darniva  21.0  3500.0             Yes\n",
       "2  Irgi Saputra  21.0  4000.0             Yes\n",
       "3   Ikhwan Fila  25.0  5500.0             Yes\n",
       "4  Fara Darniva  25.0     NaN             Yes\n",
       "5  Irgi Saputra  25.0  5500.0             NaN\n",
       "6   Ikhwan Fila   NaN  6500.0             Yes\n",
       "7  Fara Darniva  30.0  6000.0              No\n",
       "8  Irgi Saputra  30.0  6300.0             Yes\n",
       "9        Ikhwan  32.0  7600.0              No"
      ]
     },
     "execution_count": 4,
     "metadata": {},
     "output_type": "execute_result"
    }
   ],
   "source": [
    "dataset"
   ]
  },
  {
   "cell_type": "code",
   "execution_count": 5,
   "id": "44252631",
   "metadata": {},
   "outputs": [
    {
     "name": "stdout",
     "output_type": "stream",
     "text": [
      "[['Ikhwan Fila' 21.0 4000.0]\n",
      " ['Fara Darniva' 21.0 3500.0]\n",
      " ['Irgi Saputra' 21.0 4000.0]\n",
      " ['Ikhwan Fila' 25.0 5500.0]\n",
      " ['Fara Darniva' 25.0 nan]\n",
      " ['Irgi Saputra' 25.0 5500.0]\n",
      " ['Ikhwan Fila' nan 6500.0]\n",
      " ['Fara Darniva' 30.0 6000.0]\n",
      " ['Irgi Saputra' 30.0 6300.0]\n",
      " ['Ikhwan' 32.0 7600.0]]\n"
     ]
    }
   ],
   "source": [
    "print(X)"
   ]
  },
  {
   "cell_type": "code",
   "execution_count": 6,
   "id": "6164ae39",
   "metadata": {},
   "outputs": [
    {
     "name": "stdout",
     "output_type": "stream",
     "text": [
      "['Yes' 'Yes' 'Yes' 'Yes' 'Yes' nan 'Yes' 'No' 'Yes' 'No']\n"
     ]
    }
   ],
   "source": [
    "print(y)"
   ]
  },
  {
   "cell_type": "code",
   "execution_count": 7,
   "id": "320fe264",
   "metadata": {},
   "outputs": [],
   "source": [
    "from sklearn.impute import SimpleImputer\n",
    "imputer = SimpleImputer(missing_values=np.nan, strategy='mean')\n",
    "imputer.fit(X[:, 1:3])\n",
    "X[:, 1:3] = imputer.transform(X[:, 1:3])"
   ]
  },
  {
   "cell_type": "code",
   "execution_count": 8,
   "id": "a94ecc02",
   "metadata": {},
   "outputs": [
    {
     "name": "stdout",
     "output_type": "stream",
     "text": [
      "[['Ikhwan Fila' 21.0 4000.0]\n",
      " ['Fara Darniva' 21.0 3500.0]\n",
      " ['Irgi Saputra' 21.0 4000.0]\n",
      " ['Ikhwan Fila' 25.0 5500.0]\n",
      " ['Fara Darniva' 25.0 5433.333333333333]\n",
      " ['Irgi Saputra' 25.0 5500.0]\n",
      " ['Ikhwan Fila' 25.555555555555557 6500.0]\n",
      " ['Fara Darniva' 30.0 6000.0]\n",
      " ['Irgi Saputra' 30.0 6300.0]\n",
      " ['Ikhwan' 32.0 7600.0]]\n"
     ]
    }
   ],
   "source": [
    "print(X)"
   ]
  },
  {
   "cell_type": "code",
   "execution_count": 9,
   "id": "43c198e1",
   "metadata": {},
   "outputs": [],
   "source": [
    "from sklearn.compose import ColumnTransformer\n",
    "from sklearn.preprocessing import OneHotEncoder\n",
    "ct = ColumnTransformer(transformers=[('encoder',OneHotEncoder(), [0])], remainder='passthrough')\n",
    "X = np.array(ct.fit_transform(X))"
   ]
  },
  {
   "cell_type": "code",
   "execution_count": 10,
   "id": "9bfcecb5",
   "metadata": {},
   "outputs": [
    {
     "name": "stdout",
     "output_type": "stream",
     "text": [
      "[[0.0 0.0 1.0 0.0 21.0 4000.0]\n",
      " [1.0 0.0 0.0 0.0 21.0 3500.0]\n",
      " [0.0 0.0 0.0 1.0 21.0 4000.0]\n",
      " [0.0 0.0 1.0 0.0 25.0 5500.0]\n",
      " [1.0 0.0 0.0 0.0 25.0 5433.333333333333]\n",
      " [0.0 0.0 0.0 1.0 25.0 5500.0]\n",
      " [0.0 0.0 1.0 0.0 25.555555555555557 6500.0]\n",
      " [1.0 0.0 0.0 0.0 30.0 6000.0]\n",
      " [0.0 0.0 0.0 1.0 30.0 6300.0]\n",
      " [0.0 1.0 0.0 0.0 32.0 7600.0]]\n"
     ]
    }
   ],
   "source": [
    "print(X)"
   ]
  },
  {
   "cell_type": "code",
   "execution_count": 11,
   "id": "21cbb298",
   "metadata": {},
   "outputs": [],
   "source": [
    "from sklearn.preprocessing import LabelEncoder\n",
    "le = LabelEncoder()\n",
    "y = le.fit_transform(y)"
   ]
  },
  {
   "cell_type": "code",
   "execution_count": 12,
   "id": "b15959ff",
   "metadata": {},
   "outputs": [
    {
     "name": "stdout",
     "output_type": "stream",
     "text": [
      "[1 1 1 1 1 2 1 0 1 0]\n"
     ]
    }
   ],
   "source": [
    "print(y)"
   ]
  },
  {
   "cell_type": "code",
   "execution_count": 13,
   "id": "edb19470",
   "metadata": {},
   "outputs": [],
   "source": [
    "from sklearn.model_selection import train_test_split\n",
    "X_train, X_test, y_train, y_test = train_test_split(X, y, test_size = 0.2, random_state=1)"
   ]
  },
  {
   "cell_type": "code",
   "execution_count": 14,
   "id": "837fe2e5",
   "metadata": {},
   "outputs": [
    {
     "name": "stdout",
     "output_type": "stream",
     "text": [
      "[[0.0 0.0 1.0 0.0 25.555555555555557 6500.0]\n",
      " [1.0 0.0 0.0 0.0 25.0 5433.333333333333]\n",
      " [0.0 0.0 1.0 0.0 21.0 4000.0]\n",
      " [0.0 0.0 1.0 0.0 25.0 5500.0]\n",
      " [1.0 0.0 0.0 0.0 21.0 3500.0]\n",
      " [1.0 0.0 0.0 0.0 30.0 6000.0]\n",
      " [0.0 0.0 0.0 1.0 30.0 6300.0]\n",
      " [0.0 0.0 0.0 1.0 25.0 5500.0]]\n"
     ]
    }
   ],
   "source": [
    "print(X_train)"
   ]
  },
  {
   "cell_type": "code",
   "execution_count": 15,
   "id": "4c57165b",
   "metadata": {},
   "outputs": [
    {
     "name": "stdout",
     "output_type": "stream",
     "text": [
      "[[0.0 0.0 0.0 1.0 21.0 4000.0]\n",
      " [0.0 1.0 0.0 0.0 32.0 7600.0]]\n"
     ]
    }
   ],
   "source": [
    "print(X_test)"
   ]
  },
  {
   "cell_type": "code",
   "execution_count": 16,
   "id": "e1ad32b2",
   "metadata": {},
   "outputs": [
    {
     "name": "stdout",
     "output_type": "stream",
     "text": [
      "[1 1 1 1 1 0 1 2]\n"
     ]
    }
   ],
   "source": [
    "print(y_train)"
   ]
  },
  {
   "cell_type": "code",
   "execution_count": 17,
   "id": "cfab589c",
   "metadata": {},
   "outputs": [
    {
     "name": "stdout",
     "output_type": "stream",
     "text": [
      "[1 0]\n"
     ]
    }
   ],
   "source": [
    "print(y_test)"
   ]
  },
  {
   "cell_type": "code",
   "execution_count": 18,
   "id": "07fd5b55",
   "metadata": {},
   "outputs": [],
   "source": [
    "from sklearn.preprocessing import StandardScaler\n",
    "sc = StandardScaler()\n",
    "X_train[:, 3:] = sc.fit_transform(X_train[:, 3:])\n",
    "X_test[:, 3:] = sc.transform(X_test[:, 3:])"
   ]
  },
  {
   "cell_type": "code",
   "execution_count": 19,
   "id": "d8457ec5",
   "metadata": {},
   "outputs": [
    {
     "name": "stdout",
     "output_type": "stream",
     "text": [
      "[[0.0 0.0 1.0 -0.5773502691896258 0.07397810009236287 1.1624170385728378]\n",
      " [1.0 0.0 0.0 -0.5773502691896258 -0.10008801777201852\n",
      "  0.09198983758490109]\n",
      " [0.0 0.0 1.0 -0.5773502691896258 -1.3533640663955608 -1.3463967137426383]\n",
      " [0.0 0.0 1.0 -0.5773502691896258 -0.10008801777201852\n",
      "  0.15889153764664743]\n",
      " [1.0 0.0 0.0 -0.5773502691896258 -1.3533640663955608 -1.8481594642057335]\n",
      " [1.0 0.0 0.0 -0.5773502691896258 1.4665070430074094 0.6606542881097427]\n",
      " [0.0 0.0 0.0 1.7320508075688774 1.4665070430074094 0.9617119383875998]\n",
      " [0.0 0.0 0.0 1.7320508075688774 -0.10008801777201852 0.15889153764664743]]\n"
     ]
    }
   ],
   "source": [
    "print(X_train)"
   ]
  },
  {
   "cell_type": "code",
   "execution_count": 20,
   "id": "79b34706",
   "metadata": {},
   "outputs": [
    {
     "name": "stdout",
     "output_type": "stream",
     "text": [
      "[[0.0 0.0 0.0 1.7320508075688774 -1.3533640663955608 -1.3463967137426383]\n",
      " [0.0 1.0 0.0 -0.5773502691896258 2.0931450673191807 2.2662950895916474]]\n"
     ]
    }
   ],
   "source": [
    "print(X_test)"
   ]
  },
  {
   "cell_type": "code",
   "execution_count": null,
   "id": "68e6341a",
   "metadata": {},
   "outputs": [],
   "source": []
  }
 ],
 "metadata": {
  "kernelspec": {
   "display_name": "Python 3 (ipykernel)",
   "language": "python",
   "name": "python3"
  },
  "language_info": {
   "codemirror_mode": {
    "name": "ipython",
    "version": 3
   },
   "file_extension": ".py",
   "mimetype": "text/x-python",
   "name": "python",
   "nbconvert_exporter": "python",
   "pygments_lexer": "ipython3",
   "version": "3.9.13"
  }
 },
 "nbformat": 4,
 "nbformat_minor": 5
}
